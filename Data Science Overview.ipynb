{
 "cells": [
  {
   "cell_type": "markdown",
   "id": "2425ea63",
   "metadata": {},
   "source": [
    "# Final Project: Data Science Overview\n"
   ]
  },
  {
   "cell_type": "markdown",
   "id": "598c6ed1",
   "metadata": {},
   "source": [
    "## Introduction\n",
    "This notebook provides an overview of various data science tools, languages, and libraries, showcasing basic arithmetic operations and the conversion of units.\n"
   ]
  },
  {
   "cell_type": "markdown",
   "id": "39c75107",
   "metadata": {},
   "source": [
    "## Data Science Languages\n",
    "- Python\n",
    "- R\n",
    "- SQL\n",
    "- Julia\n",
    "- Scala\n"
   ]
  },
  {
   "cell_type": "markdown",
   "id": "f31bf564",
   "metadata": {},
   "source": [
    "## Data Science Libraries\n",
    "- Pandas\n",
    "- NumPy\n",
    "- Scikit-learn\n",
    "- TensorFlow\n",
    "- PyTorch\n"
   ]
  },
  {
   "cell_type": "markdown",
   "id": "00ec5981",
   "metadata": {},
   "source": [
    "## Data Science Tools\n",
    "| Tool | Type | Use |\n",
    "|------|------|-----|\n",
    "| Jupyter Notebook | IDE | Data analysis and visualization |\n",
    "| Pandas | Library | Data manipulation |\n",
    "| Matplotlib | Library | Data visualization |\n",
    "| TensorFlow | Library | Machine Learning |\n",
    "| SQL | Language | Database management |\n"
   ]
  },
  {
   "cell_type": "markdown",
   "id": "61f2717f",
   "metadata": {},
   "source": [
    "## Arithmetic Expression Examples\n",
    "- Addition: `a + b`\n",
    "- Subtraction: `a - b`\n",
    "- Multiplication: `a * b`\n",
    "- Division: `a / b`\n"
   ]
  },
  {
   "cell_type": "code",
   "execution_count": 2,
   "id": "f795a2a6",
   "metadata": {},
   "outputs": [
    {
     "name": "stdout",
     "output_type": "stream",
     "text": [
      "Multiplication: 50, Addition: 15\n"
     ]
    }
   ],
   "source": [
    "a = 5\n",
    "b = 10\n",
    "multiplication = a * b\n",
    "addition = a + b\n",
    "print(f\"Multiplication: {multiplication}, Addition: {addition}\")\n"
   ]
  },
  {
   "cell_type": "code",
   "execution_count": 3,
   "id": "c3c40a70",
   "metadata": {},
   "outputs": [
    {
     "name": "stdout",
     "output_type": "stream",
     "text": [
      "120 minutes is equal to 2.0 hours\n"
     ]
    }
   ],
   "source": [
    "minutes = 120\n",
    "hours = minutes / 60\n",
    "print(f\"{minutes} minutes is equal to {hours} hours\")\n"
   ]
  },
  {
   "cell_type": "markdown",
   "id": "42b7e02b",
   "metadata": {},
   "source": [
    "## Objectives\n",
    "- Understand basic data science concepts\n",
    "- Familiarize with data science tools and libraries\n",
    "- Apply basic arithmetic operations in Python\n",
    "- Convert units (minutes to hours) using Python\n"
   ]
  },
  {
   "cell_type": "markdown",
   "id": "2e996f2b",
   "metadata": {},
   "source": [
    "## Author\n",
    "- Syed Ayaan Ahmed\n"
   ]
  },
  {
   "cell_type": "code",
   "execution_count": null,
   "id": "43d92758",
   "metadata": {},
   "outputs": [],
   "source": []
  },
  {
   "cell_type": "code",
   "execution_count": null,
   "id": "09664e56",
   "metadata": {},
   "outputs": [],
   "source": []
  }
 ],
 "metadata": {
  "kernelspec": {
   "display_name": "Python 3 (ipykernel)",
   "language": "python",
   "name": "python3"
  },
  "language_info": {
   "codemirror_mode": {
    "name": "ipython",
    "version": 3
   },
   "file_extension": ".py",
   "mimetype": "text/x-python",
   "name": "python",
   "nbconvert_exporter": "python",
   "pygments_lexer": "ipython3",
   "version": "3.10.9"
  }
 },
 "nbformat": 4,
 "nbformat_minor": 5
}
